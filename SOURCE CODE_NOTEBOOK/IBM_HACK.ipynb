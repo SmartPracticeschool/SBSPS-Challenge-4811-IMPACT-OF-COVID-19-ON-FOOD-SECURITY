{
 "cells": [
  {
   "cell_type": "markdown",
   "metadata": {},
   "source": [
    "## FOOD PRICE INDEX"
   ]
  },
  {
   "cell_type": "code",
   "execution_count": 1,
   "metadata": {},
   "outputs": [],
   "source": [
    "import pandas as pd"
   ]
  },
  {
   "cell_type": "code",
   "execution_count": 2,
   "metadata": {
    "scrolled": true
   },
   "outputs": [
    {
     "data": {
      "text/html": [
       "<div>\n",
       "<style scoped>\n",
       "    .dataframe tbody tr th:only-of-type {\n",
       "        vertical-align: middle;\n",
       "    }\n",
       "\n",
       "    .dataframe tbody tr th {\n",
       "        vertical-align: top;\n",
       "    }\n",
       "\n",
       "    .dataframe thead th {\n",
       "        text-align: right;\n",
       "    }\n",
       "</style>\n",
       "<table border=\"1\" class=\"dataframe\">\n",
       "  <thead>\n",
       "    <tr style=\"text-align: right;\">\n",
       "      <th></th>\n",
       "      <th>Date</th>\n",
       "      <th>Food Price Index</th>\n",
       "      <th>Meat Price Index</th>\n",
       "      <th>Dairy Price Index</th>\n",
       "      <th>Cereals Price Index</th>\n",
       "      <th>Oils Price Index</th>\n",
       "      <th>Sugar Price Index</th>\n",
       "    </tr>\n",
       "  </thead>\n",
       "  <tbody>\n",
       "    <tr>\n",
       "      <th>0</th>\n",
       "      <td>Jan-90</td>\n",
       "      <td>108.7</td>\n",
       "      <td>112.3</td>\n",
       "      <td>94.3</td>\n",
       "      <td>106.4</td>\n",
       "      <td>73.0</td>\n",
       "      <td>201.5</td>\n",
       "    </tr>\n",
       "    <tr>\n",
       "      <th>1</th>\n",
       "      <td>Feb-90</td>\n",
       "      <td>109.9</td>\n",
       "      <td>117.7</td>\n",
       "      <td>91.9</td>\n",
       "      <td>104.0</td>\n",
       "      <td>72.5</td>\n",
       "      <td>207.9</td>\n",
       "    </tr>\n",
       "    <tr>\n",
       "      <th>2</th>\n",
       "      <td>Mar-90</td>\n",
       "      <td>107.9</td>\n",
       "      <td>119.6</td>\n",
       "      <td>73.6</td>\n",
       "      <td>102.1</td>\n",
       "      <td>74.6</td>\n",
       "      <td>218.0</td>\n",
       "    </tr>\n",
       "    <tr>\n",
       "      <th>3</th>\n",
       "      <td>Apr-90</td>\n",
       "      <td>114.2</td>\n",
       "      <td>131.0</td>\n",
       "      <td>85.2</td>\n",
       "      <td>105.1</td>\n",
       "      <td>71.8</td>\n",
       "      <td>216.3</td>\n",
       "    </tr>\n",
       "    <tr>\n",
       "      <th>4</th>\n",
       "      <td>May-90</td>\n",
       "      <td>111.2</td>\n",
       "      <td>130.5</td>\n",
       "      <td>70.0</td>\n",
       "      <td>105.3</td>\n",
       "      <td>74.4</td>\n",
       "      <td>207.2</td>\n",
       "    </tr>\n",
       "  </tbody>\n",
       "</table>\n",
       "</div>"
      ],
      "text/plain": [
       "     Date  Food Price Index  Meat Price Index  Dairy Price Index  \\\n",
       "0  Jan-90             108.7             112.3               94.3   \n",
       "1  Feb-90             109.9             117.7               91.9   \n",
       "2  Mar-90             107.9             119.6               73.6   \n",
       "3  Apr-90             114.2             131.0               85.2   \n",
       "4  May-90             111.2             130.5               70.0   \n",
       "\n",
       "   Cereals Price Index  Oils Price Index  Sugar Price Index  \n",
       "0                106.4              73.0              201.5  \n",
       "1                104.0              72.5              207.9  \n",
       "2                102.1              74.6              218.0  \n",
       "3                105.1              71.8              216.3  \n",
       "4                105.3              74.4              207.2  "
      ]
     },
     "execution_count": 2,
     "metadata": {},
     "output_type": "execute_result"
    }
   ],
   "source": [
    "df=pd.read_csv(\"C:\\\\Users\\\\91801\\\\Desktop\\\\IBM HACK\\\\WORLD_DATASET\\\\Food_price_indices_data_jun.csv\")\n",
    "df.head()"
   ]
  },
  {
   "cell_type": "code",
   "execution_count": 3,
   "metadata": {},
   "outputs": [
    {
     "data": {
      "text/plain": [
       "Date                    object\n",
       "Food Price Index       float64\n",
       "Meat Price Index       float64\n",
       "Dairy Price Index      float64\n",
       "Cereals Price Index    float64\n",
       "Oils Price Index       float64\n",
       "Sugar Price Index      float64\n",
       "dtype: object"
      ]
     },
     "execution_count": 3,
     "metadata": {},
     "output_type": "execute_result"
    }
   ],
   "source": [
    "df.dtypes"
   ]
  },
  {
   "cell_type": "code",
   "execution_count": 4,
   "metadata": {},
   "outputs": [
    {
     "data": {
      "text/html": [
       "<div>\n",
       "<style scoped>\n",
       "    .dataframe tbody tr th:only-of-type {\n",
       "        vertical-align: middle;\n",
       "    }\n",
       "\n",
       "    .dataframe tbody tr th {\n",
       "        vertical-align: top;\n",
       "    }\n",
       "\n",
       "    .dataframe thead th {\n",
       "        text-align: right;\n",
       "    }\n",
       "</style>\n",
       "<table border=\"1\" class=\"dataframe\">\n",
       "  <thead>\n",
       "    <tr style=\"text-align: right;\">\n",
       "      <th></th>\n",
       "      <th>Date</th>\n",
       "      <th>Food Price Index</th>\n",
       "      <th>Meat Price Index</th>\n",
       "      <th>Dairy Price Index</th>\n",
       "      <th>Cereals Price Index</th>\n",
       "      <th>Oils Price Index</th>\n",
       "      <th>Sugar Price Index</th>\n",
       "      <th>Average</th>\n",
       "    </tr>\n",
       "  </thead>\n",
       "  <tbody>\n",
       "    <tr>\n",
       "      <th>0</th>\n",
       "      <td>Jan-90</td>\n",
       "      <td>108.7</td>\n",
       "      <td>112.3</td>\n",
       "      <td>94.3</td>\n",
       "      <td>106.4</td>\n",
       "      <td>73.0</td>\n",
       "      <td>201.5</td>\n",
       "      <td>116.033333</td>\n",
       "    </tr>\n",
       "    <tr>\n",
       "      <th>1</th>\n",
       "      <td>Feb-90</td>\n",
       "      <td>109.9</td>\n",
       "      <td>117.7</td>\n",
       "      <td>91.9</td>\n",
       "      <td>104.0</td>\n",
       "      <td>72.5</td>\n",
       "      <td>207.9</td>\n",
       "      <td>117.316667</td>\n",
       "    </tr>\n",
       "    <tr>\n",
       "      <th>2</th>\n",
       "      <td>Mar-90</td>\n",
       "      <td>107.9</td>\n",
       "      <td>119.6</td>\n",
       "      <td>73.6</td>\n",
       "      <td>102.1</td>\n",
       "      <td>74.6</td>\n",
       "      <td>218.0</td>\n",
       "      <td>115.966667</td>\n",
       "    </tr>\n",
       "    <tr>\n",
       "      <th>3</th>\n",
       "      <td>Apr-90</td>\n",
       "      <td>114.2</td>\n",
       "      <td>131.0</td>\n",
       "      <td>85.2</td>\n",
       "      <td>105.1</td>\n",
       "      <td>71.8</td>\n",
       "      <td>216.3</td>\n",
       "      <td>120.600000</td>\n",
       "    </tr>\n",
       "    <tr>\n",
       "      <th>4</th>\n",
       "      <td>May-90</td>\n",
       "      <td>111.2</td>\n",
       "      <td>130.5</td>\n",
       "      <td>70.0</td>\n",
       "      <td>105.3</td>\n",
       "      <td>74.4</td>\n",
       "      <td>207.2</td>\n",
       "      <td>116.433333</td>\n",
       "    </tr>\n",
       "  </tbody>\n",
       "</table>\n",
       "</div>"
      ],
      "text/plain": [
       "     Date  Food Price Index  Meat Price Index  Dairy Price Index  \\\n",
       "0  Jan-90             108.7             112.3               94.3   \n",
       "1  Feb-90             109.9             117.7               91.9   \n",
       "2  Mar-90             107.9             119.6               73.6   \n",
       "3  Apr-90             114.2             131.0               85.2   \n",
       "4  May-90             111.2             130.5               70.0   \n",
       "\n",
       "   Cereals Price Index  Oils Price Index  Sugar Price Index     Average  \n",
       "0                106.4              73.0              201.5  116.033333  \n",
       "1                104.0              72.5              207.9  117.316667  \n",
       "2                102.1              74.6              218.0  115.966667  \n",
       "3                105.1              71.8              216.3  120.600000  \n",
       "4                105.3              74.4              207.2  116.433333  "
      ]
     },
     "execution_count": 4,
     "metadata": {},
     "output_type": "execute_result"
    }
   ],
   "source": [
    "df[\"Average\"]=(df[\"Food Price Index\"]+df[\"Meat Price Index\"]+df[\"Dairy Price Index\"]+df[\"Cereals Price Index\"]+df[\"Oils Price Index\"]+df[\"Sugar Price Index\"])/6\n",
    "df.head()"
   ]
  },
  {
   "cell_type": "code",
   "execution_count": 5,
   "metadata": {},
   "outputs": [
    {
     "data": {
      "text/plain": [
       "Text(0, 0.5, 'AVERAGE PRICE INDEX')"
      ]
     },
     "execution_count": 5,
     "metadata": {},
     "output_type": "execute_result"
    },
    {
     "data": {
      "image/png": "[encoded data removed]",
      "text/plain": [
       "<Figure size 432x288 with 1 Axes>"
      ]
     },
     "metadata": {
      "needs_background": "light"
     },
     "output_type": "display_data"
    }
   ],
   "source": [
    "%matplotlib inline\n",
    "import matplotlib.pyplot as plt\n",
    "plt.plot(df.index, df.Average)\n",
    "plt.xlabel('DAYS(1990-2019)')\n",
    "plt.ylabel('AVERAGE PRICE INDEX')"
   ]
  },
  {
   "cell_type": "code",
   "execution_count": null,
   "metadata": {},
   "outputs": [],
   "source": []
  },
  {
   "cell_type": "code",
   "execution_count": 6,
   "metadata": {
    "scrolled": true
   },
   "outputs": [
    {
     "data": {
      "text/html": [
       "<div>\n",
       "<style scoped>\n",
       "    .dataframe tbody tr th:only-of-type {\n",
       "        vertical-align: middle;\n",
       "    }\n",
       "\n",
       "    .dataframe tbody tr th {\n",
       "        vertical-align: top;\n",
       "    }\n",
       "\n",
       "    .dataframe thead th {\n",
       "        text-align: right;\n",
       "    }\n",
       "</style>\n",
       "<table border=\"1\" class=\"dataframe\">\n",
       "  <thead>\n",
       "    <tr style=\"text-align: right;\">\n",
       "      <th></th>\n",
       "      <th>Date</th>\n",
       "      <th>Food Price Index</th>\n",
       "      <th>Meat Price Index</th>\n",
       "      <th>Dairy Price Index</th>\n",
       "      <th>Cereals Price Index</th>\n",
       "      <th>Oils Price Index</th>\n",
       "      <th>Sugar Price Index</th>\n",
       "      <th>Average</th>\n",
       "      <th>DATE_VAL</th>\n",
       "    </tr>\n",
       "  </thead>\n",
       "  <tbody>\n",
       "    <tr>\n",
       "      <th>0</th>\n",
       "      <td>Jan-90</td>\n",
       "      <td>108.7</td>\n",
       "      <td>112.3</td>\n",
       "      <td>94.3</td>\n",
       "      <td>106.4</td>\n",
       "      <td>73.0</td>\n",
       "      <td>201.5</td>\n",
       "      <td>116.033333</td>\n",
       "      <td>0</td>\n",
       "    </tr>\n",
       "    <tr>\n",
       "      <th>1</th>\n",
       "      <td>Feb-90</td>\n",
       "      <td>109.9</td>\n",
       "      <td>117.7</td>\n",
       "      <td>91.9</td>\n",
       "      <td>104.0</td>\n",
       "      <td>72.5</td>\n",
       "      <td>207.9</td>\n",
       "      <td>117.316667</td>\n",
       "      <td>1</td>\n",
       "    </tr>\n",
       "    <tr>\n",
       "      <th>2</th>\n",
       "      <td>Mar-90</td>\n",
       "      <td>107.9</td>\n",
       "      <td>119.6</td>\n",
       "      <td>73.6</td>\n",
       "      <td>102.1</td>\n",
       "      <td>74.6</td>\n",
       "      <td>218.0</td>\n",
       "      <td>115.966667</td>\n",
       "      <td>2</td>\n",
       "    </tr>\n",
       "    <tr>\n",
       "      <th>3</th>\n",
       "      <td>Apr-90</td>\n",
       "      <td>114.2</td>\n",
       "      <td>131.0</td>\n",
       "      <td>85.2</td>\n",
       "      <td>105.1</td>\n",
       "      <td>71.8</td>\n",
       "      <td>216.3</td>\n",
       "      <td>120.600000</td>\n",
       "      <td>3</td>\n",
       "    </tr>\n",
       "    <tr>\n",
       "      <th>4</th>\n",
       "      <td>May-90</td>\n",
       "      <td>111.2</td>\n",
       "      <td>130.5</td>\n",
       "      <td>70.0</td>\n",
       "      <td>105.3</td>\n",
       "      <td>74.4</td>\n",
       "      <td>207.2</td>\n",
       "      <td>116.433333</td>\n",
       "      <td>4</td>\n",
       "    </tr>\n",
       "  </tbody>\n",
       "</table>\n",
       "</div>"
      ],
      "text/plain": [
       "     Date  Food Price Index  Meat Price Index  Dairy Price Index  \\\n",
       "0  Jan-90             108.7             112.3               94.3   \n",
       "1  Feb-90             109.9             117.7               91.9   \n",
       "2  Mar-90             107.9             119.6               73.6   \n",
       "3  Apr-90             114.2             131.0               85.2   \n",
       "4  May-90             111.2             130.5               70.0   \n",
       "\n",
       "   Cereals Price Index  Oils Price Index  Sugar Price Index     Average  \\\n",
       "0                106.4              73.0              201.5  116.033333   \n",
       "1                104.0              72.5              207.9  117.316667   \n",
       "2                102.1              74.6              218.0  115.966667   \n",
       "3                105.1              71.8              216.3  120.600000   \n",
       "4                105.3              74.4              207.2  116.433333   \n",
       "\n",
       "   DATE_VAL  \n",
       "0         0  \n",
       "1         1  \n",
       "2         2  \n",
       "3         3  \n",
       "4         4  "
      ]
     },
     "execution_count": 6,
     "metadata": {},
     "output_type": "execute_result"
    }
   ],
   "source": [
    "df[\"DATE_VAL\"]=df.index\n",
    "df.head()"
   ]
  },
  {
   "cell_type": "code",
   "execution_count": null,
   "metadata": {},
   "outputs": [],
   "source": [
    "from sklearn.linear_model import LinearRegression\n",
    "model = LinearRegression()\n",
    "model.fit(df[[\"DATE_VAL\"]],df[[\"Average\"]])\n",
    "y_pred = model.predict(df_lock[[\"Lockdown_Month\"]])"
   ]
  },
  {
   "cell_type": "code",
   "execution_count": 7,
   "metadata": {},
   "outputs": [
    {
     "data": {
      "text/plain": [
       "(365, 9)"
      ]
     },
     "execution_count": 7,
     "metadata": {},
     "output_type": "execute_result"
    }
   ],
   "source": [
    "df.shape"
   ]
  },
  {
   "cell_type": "code",
   "execution_count": 8,
   "metadata": {},
   "outputs": [
    {
     "data": {
      "text/html": [
       "<div>\n",
       "<style scoped>\n",
       "    .dataframe tbody tr th:only-of-type {\n",
       "        vertical-align: middle;\n",
       "    }\n",
       "\n",
       "    .dataframe tbody tr th {\n",
       "        vertical-align: top;\n",
       "    }\n",
       "\n",
       "    .dataframe thead th {\n",
       "        text-align: right;\n",
       "    }\n",
       "</style>\n",
       "<table border=\"1\" class=\"dataframe\">\n",
       "  <thead>\n",
       "    <tr style=\"text-align: right;\">\n",
       "      <th></th>\n",
       "      <th>Food Price Index</th>\n",
       "      <th>Meat Price Index</th>\n",
       "      <th>Dairy Price Index</th>\n",
       "      <th>Cereals Price Index</th>\n",
       "      <th>Oils Price Index</th>\n",
       "      <th>Sugar Price Index</th>\n",
       "      <th>Average</th>\n",
       "      <th>DATE_VAL</th>\n",
       "    </tr>\n",
       "  </thead>\n",
       "  <tbody>\n",
       "    <tr>\n",
       "      <th>count</th>\n",
       "      <td>355.000000</td>\n",
       "      <td>355.000000</td>\n",
       "      <td>355.000000</td>\n",
       "      <td>355.000000</td>\n",
       "      <td>355.000000</td>\n",
       "      <td>355.000000</td>\n",
       "      <td>355.000000</td>\n",
       "      <td>365.000000</td>\n",
       "    </tr>\n",
       "    <tr>\n",
       "      <th>mean</th>\n",
       "      <td>141.289859</td>\n",
       "      <td>137.064507</td>\n",
       "      <td>142.469577</td>\n",
       "      <td>138.513803</td>\n",
       "      <td>134.608451</td>\n",
       "      <td>181.847042</td>\n",
       "      <td>145.965540</td>\n",
       "      <td>182.000000</td>\n",
       "    </tr>\n",
       "    <tr>\n",
       "      <th>std</th>\n",
       "      <td>42.783027</td>\n",
       "      <td>30.531893</td>\n",
       "      <td>57.088862</td>\n",
       "      <td>49.784069</td>\n",
       "      <td>52.212463</td>\n",
       "      <td>72.899265</td>\n",
       "      <td>46.877979</td>\n",
       "      <td>105.510663</td>\n",
       "    </tr>\n",
       "    <tr>\n",
       "      <th>min</th>\n",
       "      <td>85.100000</td>\n",
       "      <td>84.500000</td>\n",
       "      <td>66.100000</td>\n",
       "      <td>80.200000</td>\n",
       "      <td>57.100000</td>\n",
       "      <td>72.900000</td>\n",
       "      <td>84.283333</td>\n",
       "      <td>0.000000</td>\n",
       "    </tr>\n",
       "    <tr>\n",
       "      <th>25%</th>\n",
       "      <td>105.950000</td>\n",
       "      <td>114.950000</td>\n",
       "      <td>93.650000</td>\n",
       "      <td>98.400000</td>\n",
       "      <td>94.550000</td>\n",
       "      <td>129.300000</td>\n",
       "      <td>107.075000</td>\n",
       "      <td>91.000000</td>\n",
       "    </tr>\n",
       "    <tr>\n",
       "      <th>50%</th>\n",
       "      <td>124.600000</td>\n",
       "      <td>130.000000</td>\n",
       "      <td>125.600000</td>\n",
       "      <td>115.600000</td>\n",
       "      <td>125.300000</td>\n",
       "      <td>168.000000</td>\n",
       "      <td>132.066667</td>\n",
       "      <td>182.000000</td>\n",
       "    </tr>\n",
       "    <tr>\n",
       "      <th>75%</th>\n",
       "      <td>172.450000</td>\n",
       "      <td>163.750000</td>\n",
       "      <td>192.500000</td>\n",
       "      <td>166.750000</td>\n",
       "      <td>164.650000</td>\n",
       "      <td>217.600000</td>\n",
       "      <td>180.966667</td>\n",
       "      <td>273.000000</td>\n",
       "    </tr>\n",
       "    <tr>\n",
       "      <th>max</th>\n",
       "      <td>240.100000</td>\n",
       "      <td>212.000000</td>\n",
       "      <td>275.400000</td>\n",
       "      <td>267.700000</td>\n",
       "      <td>286.500000</td>\n",
       "      <td>420.200000</td>\n",
       "      <td>268.883333</td>\n",
       "      <td>364.000000</td>\n",
       "    </tr>\n",
       "  </tbody>\n",
       "</table>\n",
       "</div>"
      ],
      "text/plain": [
       "       Food Price Index  Meat Price Index  Dairy Price Index  \\\n",
       "count        355.000000        355.000000         355.000000   \n",
       "mean         141.289859        137.064507         142.469577   \n",
       "std           42.783027         30.531893          57.088862   \n",
       "min           85.100000         84.500000          66.100000   \n",
       "25%          105.950000        114.950000          93.650000   \n",
       "50%          124.600000        130.000000         125.600000   \n",
       "75%          172.450000        163.750000         192.500000   \n",
       "max          240.100000        212.000000         275.400000   \n",
       "\n",
       "       Cereals Price Index  Oils Price Index  Sugar Price Index     Average  \\\n",
       "count           355.000000        355.000000         355.000000  355.000000   \n",
       "mean            138.513803        134.608451         181.847042  145.965540   \n",
       "std              49.784069         52.212463          72.899265   46.877979   \n",
       "min              80.200000         57.100000          72.900000   84.283333   \n",
       "25%              98.400000         94.550000         129.300000  107.075000   \n",
       "50%             115.600000        125.300000         168.000000  132.066667   \n",
       "75%             166.750000        164.650000         217.600000  180.966667   \n",
       "max             267.700000        286.500000         420.200000  268.883333   \n",
       "\n",
       "         DATE_VAL  \n",
       "count  365.000000  \n",
       "mean   182.000000  \n",
       "std    105.510663  \n",
       "min      0.000000  \n",
       "25%     91.000000  \n",
       "50%    182.000000  \n",
       "75%    273.000000  \n",
       "max    364.000000  "
      ]
     },
     "execution_count": 8,
     "metadata": {},
     "output_type": "execute_result"
    }
   ],
   "source": [
    "df.describe()"
   ]
  },
  {
   "cell_type": "code",
   "execution_count": 9,
   "metadata": {},
   "outputs": [
    {
     "data": {
      "text/plain": [
       "<matplotlib.axes._subplots.AxesSubplot at 0x1d4d89c1630>"
      ]
     },
     "execution_count": 9,
     "metadata": {},
     "output_type": "execute_result"
    },
    {
     "data": {
      "image/png": "[encoded data removed]",
      "text/plain": [
       "<Figure size 720x360 with 1 Axes>"
      ]
     },
     "metadata": {
      "needs_background": "light"
     },
     "output_type": "display_data"
    }
   ],
   "source": [
    "df.plot(x=\"DATE_VAL\",y=\"Average\",figsize=(10,5), grid=True)"
   ]
  },
  {
   "cell_type": "markdown",
   "metadata": {},
   "source": [
    "# CLOSELY LOOKING INTO THE DATA"
   ]
  },
  {
   "cell_type": "code",
   "execution_count": 10,
   "metadata": {},
   "outputs": [
    {
     "data": {
      "text/html": [
       "<div>\n",
       "<style scoped>\n",
       "    .dataframe tbody tr th:only-of-type {\n",
       "        vertical-align: middle;\n",
       "    }\n",
       "\n",
       "    .dataframe tbody tr th {\n",
       "        vertical-align: top;\n",
       "    }\n",
       "\n",
       "    .dataframe thead th {\n",
       "        text-align: right;\n",
       "    }\n",
       "</style>\n",
       "<table border=\"1\" class=\"dataframe\">\n",
       "  <thead>\n",
       "    <tr style=\"text-align: right;\">\n",
       "      <th></th>\n",
       "      <th>Date</th>\n",
       "      <th>Food Price Index</th>\n",
       "      <th>Meat Price Index</th>\n",
       "      <th>Dairy Price Index</th>\n",
       "      <th>Cereals Price Index</th>\n",
       "      <th>Oils Price Index</th>\n",
       "      <th>Sugar Price Index</th>\n",
       "    </tr>\n",
       "  </thead>\n",
       "  <tbody>\n",
       "    <tr>\n",
       "      <th>0</th>\n",
       "      <td>19-Aug</td>\n",
       "      <td>169.7</td>\n",
       "      <td>179.6</td>\n",
       "      <td>194.5</td>\n",
       "      <td>157.8</td>\n",
       "      <td>133.9</td>\n",
       "      <td>174.8</td>\n",
       "    </tr>\n",
       "    <tr>\n",
       "      <th>1</th>\n",
       "      <td>19-Sep</td>\n",
       "      <td>169.2</td>\n",
       "      <td>179.6</td>\n",
       "      <td>193.4</td>\n",
       "      <td>157.4</td>\n",
       "      <td>135.7</td>\n",
       "      <td>168.6</td>\n",
       "    </tr>\n",
       "    <tr>\n",
       "      <th>2</th>\n",
       "      <td>19-Oct</td>\n",
       "      <td>172.0</td>\n",
       "      <td>180.7</td>\n",
       "      <td>192.0</td>\n",
       "      <td>164.3</td>\n",
       "      <td>136.4</td>\n",
       "      <td>178.3</td>\n",
       "    </tr>\n",
       "    <tr>\n",
       "      <th>3</th>\n",
       "      <td>19-Nov</td>\n",
       "      <td>176.8</td>\n",
       "      <td>189.7</td>\n",
       "      <td>192.6</td>\n",
       "      <td>162.1</td>\n",
       "      <td>150.6</td>\n",
       "      <td>181.6</td>\n",
       "    </tr>\n",
       "    <tr>\n",
       "      <th>4</th>\n",
       "      <td>19-Dec</td>\n",
       "      <td>181.5</td>\n",
       "      <td>190.8</td>\n",
       "      <td>198.9</td>\n",
       "      <td>164.4</td>\n",
       "      <td>164.7</td>\n",
       "      <td>190.3</td>\n",
       "    </tr>\n",
       "    <tr>\n",
       "      <th>5</th>\n",
       "      <td>20-Jan</td>\n",
       "      <td>183.0</td>\n",
       "      <td>183.8</td>\n",
       "      <td>200.6</td>\n",
       "      <td>169.3</td>\n",
       "      <td>176.3</td>\n",
       "      <td>200.7</td>\n",
       "    </tr>\n",
       "    <tr>\n",
       "      <th>6</th>\n",
       "      <td>20-Feb</td>\n",
       "      <td>179.5</td>\n",
       "      <td>175.4</td>\n",
       "      <td>209.8</td>\n",
       "      <td>167.9</td>\n",
       "      <td>158.1</td>\n",
       "      <td>209.7</td>\n",
       "    </tr>\n",
       "    <tr>\n",
       "      <th>7</th>\n",
       "      <td>20-Mar</td>\n",
       "      <td>171.1</td>\n",
       "      <td>173.2</td>\n",
       "      <td>203.5</td>\n",
       "      <td>164.2</td>\n",
       "      <td>139.1</td>\n",
       "      <td>169.6</td>\n",
       "    </tr>\n",
       "    <tr>\n",
       "      <th>8</th>\n",
       "      <td>20-Apr</td>\n",
       "      <td>165.6</td>\n",
       "      <td>169.3</td>\n",
       "      <td>196.2</td>\n",
       "      <td>163.7</td>\n",
       "      <td>131.8</td>\n",
       "      <td>144.9</td>\n",
       "    </tr>\n",
       "    <tr>\n",
       "      <th>9</th>\n",
       "      <td>20-May</td>\n",
       "      <td>162.5</td>\n",
       "      <td>168.0</td>\n",
       "      <td>181.8</td>\n",
       "      <td>162.2</td>\n",
       "      <td>128.1</td>\n",
       "      <td>155.6</td>\n",
       "    </tr>\n",
       "  </tbody>\n",
       "</table>\n",
       "</div>"
      ],
      "text/plain": [
       "     Date  Food Price Index  Meat Price Index  Dairy Price Index  \\\n",
       "0  19-Aug             169.7             179.6              194.5   \n",
       "1  19-Sep             169.2             179.6              193.4   \n",
       "2  19-Oct             172.0             180.7              192.0   \n",
       "3  19-Nov             176.8             189.7              192.6   \n",
       "4  19-Dec             181.5             190.8              198.9   \n",
       "5  20-Jan             183.0             183.8              200.6   \n",
       "6  20-Feb             179.5             175.4              209.8   \n",
       "7  20-Mar             171.1             173.2              203.5   \n",
       "8  20-Apr             165.6             169.3              196.2   \n",
       "9  20-May             162.5             168.0              181.8   \n",
       "\n",
       "   Cereals Price Index  Oils Price Index  Sugar Price Index  \n",
       "0                157.8             133.9              174.8  \n",
       "1                157.4             135.7              168.6  \n",
       "2                164.3             136.4              178.3  \n",
       "3                162.1             150.6              181.6  \n",
       "4                164.4             164.7              190.3  \n",
       "5                169.3             176.3              200.7  \n",
       "6                167.9             158.1              209.7  \n",
       "7                164.2             139.1              169.6  \n",
       "8                163.7             131.8              144.9  \n",
       "9                162.2             128.1              155.6  "
      ]
     },
     "execution_count": 10,
     "metadata": {},
     "output_type": "execute_result"
    }
   ],
   "source": [
    "df_lock=pd.read_csv(\"C:\\\\Users\\\\91801\\\\Desktop\\\\IBM HACK\\\\WORLD_DATASET\\\\LOCKDOWN VS FOOD INDICES.csv\")\n",
    "df_lock"
   ]
  },
  {
   "cell_type": "code",
   "execution_count": 11,
   "metadata": {
    "scrolled": true
   },
   "outputs": [
    {
     "data": {
      "text/html": [
       "<div>\n",
       "<style scoped>\n",
       "    .dataframe tbody tr th:only-of-type {\n",
       "        vertical-align: middle;\n",
       "    }\n",
       "\n",
       "    .dataframe tbody tr th {\n",
       "        vertical-align: top;\n",
       "    }\n",
       "\n",
       "    .dataframe thead th {\n",
       "        text-align: right;\n",
       "    }\n",
       "</style>\n",
       "<table border=\"1\" class=\"dataframe\">\n",
       "  <thead>\n",
       "    <tr style=\"text-align: right;\">\n",
       "      <th></th>\n",
       "      <th>Date</th>\n",
       "      <th>Food Price Index</th>\n",
       "      <th>Meat Price Index</th>\n",
       "      <th>Dairy Price Index</th>\n",
       "      <th>Cereals Price Index</th>\n",
       "      <th>Oils Price Index</th>\n",
       "      <th>Sugar Price Index</th>\n",
       "      <th>Average</th>\n",
       "    </tr>\n",
       "  </thead>\n",
       "  <tbody>\n",
       "    <tr>\n",
       "      <th>0</th>\n",
       "      <td>19-Aug</td>\n",
       "      <td>169.7</td>\n",
       "      <td>179.6</td>\n",
       "      <td>194.5</td>\n",
       "      <td>157.8</td>\n",
       "      <td>133.9</td>\n",
       "      <td>174.8</td>\n",
       "      <td>168.383333</td>\n",
       "    </tr>\n",
       "    <tr>\n",
       "      <th>1</th>\n",
       "      <td>19-Sep</td>\n",
       "      <td>169.2</td>\n",
       "      <td>179.6</td>\n",
       "      <td>193.4</td>\n",
       "      <td>157.4</td>\n",
       "      <td>135.7</td>\n",
       "      <td>168.6</td>\n",
       "      <td>167.316667</td>\n",
       "    </tr>\n",
       "    <tr>\n",
       "      <th>2</th>\n",
       "      <td>19-Oct</td>\n",
       "      <td>172.0</td>\n",
       "      <td>180.7</td>\n",
       "      <td>192.0</td>\n",
       "      <td>164.3</td>\n",
       "      <td>136.4</td>\n",
       "      <td>178.3</td>\n",
       "      <td>170.616667</td>\n",
       "    </tr>\n",
       "    <tr>\n",
       "      <th>3</th>\n",
       "      <td>19-Nov</td>\n",
       "      <td>176.8</td>\n",
       "      <td>189.7</td>\n",
       "      <td>192.6</td>\n",
       "      <td>162.1</td>\n",
       "      <td>150.6</td>\n",
       "      <td>181.6</td>\n",
       "      <td>175.566667</td>\n",
       "    </tr>\n",
       "    <tr>\n",
       "      <th>4</th>\n",
       "      <td>19-Dec</td>\n",
       "      <td>181.5</td>\n",
       "      <td>190.8</td>\n",
       "      <td>198.9</td>\n",
       "      <td>164.4</td>\n",
       "      <td>164.7</td>\n",
       "      <td>190.3</td>\n",
       "      <td>181.766667</td>\n",
       "    </tr>\n",
       "    <tr>\n",
       "      <th>5</th>\n",
       "      <td>20-Jan</td>\n",
       "      <td>183.0</td>\n",
       "      <td>183.8</td>\n",
       "      <td>200.6</td>\n",
       "      <td>169.3</td>\n",
       "      <td>176.3</td>\n",
       "      <td>200.7</td>\n",
       "      <td>185.616667</td>\n",
       "    </tr>\n",
       "    <tr>\n",
       "      <th>6</th>\n",
       "      <td>20-Feb</td>\n",
       "      <td>179.5</td>\n",
       "      <td>175.4</td>\n",
       "      <td>209.8</td>\n",
       "      <td>167.9</td>\n",
       "      <td>158.1</td>\n",
       "      <td>209.7</td>\n",
       "      <td>183.400000</td>\n",
       "    </tr>\n",
       "    <tr>\n",
       "      <th>7</th>\n",
       "      <td>20-Mar</td>\n",
       "      <td>171.1</td>\n",
       "      <td>173.2</td>\n",
       "      <td>203.5</td>\n",
       "      <td>164.2</td>\n",
       "      <td>139.1</td>\n",
       "      <td>169.6</td>\n",
       "      <td>170.116667</td>\n",
       "    </tr>\n",
       "    <tr>\n",
       "      <th>8</th>\n",
       "      <td>20-Apr</td>\n",
       "      <td>165.6</td>\n",
       "      <td>169.3</td>\n",
       "      <td>196.2</td>\n",
       "      <td>163.7</td>\n",
       "      <td>131.8</td>\n",
       "      <td>144.9</td>\n",
       "      <td>161.916667</td>\n",
       "    </tr>\n",
       "    <tr>\n",
       "      <th>9</th>\n",
       "      <td>20-May</td>\n",
       "      <td>162.5</td>\n",
       "      <td>168.0</td>\n",
       "      <td>181.8</td>\n",
       "      <td>162.2</td>\n",
       "      <td>128.1</td>\n",
       "      <td>155.6</td>\n",
       "      <td>159.700000</td>\n",
       "    </tr>\n",
       "  </tbody>\n",
       "</table>\n",
       "</div>"
      ],
      "text/plain": [
       "     Date  Food Price Index  Meat Price Index  Dairy Price Index  \\\n",
       "0  19-Aug             169.7             179.6              194.5   \n",
       "1  19-Sep             169.2             179.6              193.4   \n",
       "2  19-Oct             172.0             180.7              192.0   \n",
       "3  19-Nov             176.8             189.7              192.6   \n",
       "4  19-Dec             181.5             190.8              198.9   \n",
       "5  20-Jan             183.0             183.8              200.6   \n",
       "6  20-Feb             179.5             175.4              209.8   \n",
       "7  20-Mar             171.1             173.2              203.5   \n",
       "8  20-Apr             165.6             169.3              196.2   \n",
       "9  20-May             162.5             168.0              181.8   \n",
       "\n",
       "   Cereals Price Index  Oils Price Index  Sugar Price Index     Average  \n",
       "0                157.8             133.9              174.8  168.383333  \n",
       "1                157.4             135.7              168.6  167.316667  \n",
       "2                164.3             136.4              178.3  170.616667  \n",
       "3                162.1             150.6              181.6  175.566667  \n",
       "4                164.4             164.7              190.3  181.766667  \n",
       "5                169.3             176.3              200.7  185.616667  \n",
       "6                167.9             158.1              209.7  183.400000  \n",
       "7                164.2             139.1              169.6  170.116667  \n",
       "8                163.7             131.8              144.9  161.916667  \n",
       "9                162.2             128.1              155.6  159.700000  "
      ]
     },
     "execution_count": 11,
     "metadata": {},
     "output_type": "execute_result"
    }
   ],
   "source": [
    "df_lock[\"Average\"]=(df_lock[\"Food Price Index\"]+df_lock[\"Meat Price Index\"]+df_lock[\"Dairy Price Index\"]+df_lock[\"Cereals Price Index\"]+df_lock[\"Oils Price Index\"]+df_lock[\"Sugar Price Index\"])/6\n",
    "df_lock"
   ]
  },
  {
   "cell_type": "code",
   "execution_count": 12,
   "metadata": {},
   "outputs": [
    {
     "data": {
      "image/png": "[encoded data removed]",
      "text/plain": [
       "<Figure size 432x288 with 1 Axes>"
      ]
     },
     "metadata": {
      "needs_background": "light"
     },
     "output_type": "display_data"
    }
   ],
   "source": [
    "df_lock.plot(kind='bar',y=['Food Price Index','Average'], x='Date',grid=True)\n",
    "plt.xlabel('COVID 19 PERIOD')\n",
    "plt.show()"
   ]
  },
  {
   "cell_type": "code",
   "execution_count": 13,
   "metadata": {},
   "outputs": [
    {
     "data": {
      "image/png": "[encoded data removed]",
      "text/plain": [
       "<Figure size 720x360 with 4 Axes>"
      ]
     },
     "metadata": {
      "needs_background": "light"
     },
     "output_type": "display_data"
    }
   ],
   "source": [
    "df_lock.plot(kind='line', y=['Meat Price Index', 'Dairy Price Index','Cereals Price Index','Sugar Price Index'],subplots=True, layout=(2,2), figsize=(10,5))\n",
    "plt.show()"
   ]
  },
  {
   "cell_type": "code",
   "execution_count": null,
   "metadata": {},
   "outputs": [],
   "source": []
  },
  {
   "cell_type": "markdown",
   "metadata": {},
   "source": [
    "# AS THE IMPACT OF COVID 19 STARTED FROM AUGUST WORLDWIDE"
   ]
  },
  {
   "cell_type": "code",
   "execution_count": 14,
   "metadata": {},
   "outputs": [
    {
     "data": {
      "text/html": [
       "<div>\n",
       "<style scoped>\n",
       "    .dataframe tbody tr th:only-of-type {\n",
       "        vertical-align: middle;\n",
       "    }\n",
       "\n",
       "    .dataframe tbody tr th {\n",
       "        vertical-align: top;\n",
       "    }\n",
       "\n",
       "    .dataframe thead th {\n",
       "        text-align: right;\n",
       "    }\n",
       "</style>\n",
       "<table border=\"1\" class=\"dataframe\">\n",
       "  <thead>\n",
       "    <tr style=\"text-align: right;\">\n",
       "      <th></th>\n",
       "      <th>Date</th>\n",
       "      <th>Food Price Index</th>\n",
       "      <th>Meat Price Index</th>\n",
       "      <th>Dairy Price Index</th>\n",
       "      <th>Cereals Price Index</th>\n",
       "      <th>Oils Price Index</th>\n",
       "      <th>Sugar Price Index</th>\n",
       "      <th>Average</th>\n",
       "      <th>Lockdown_Month</th>\n",
       "    </tr>\n",
       "  </thead>\n",
       "  <tbody>\n",
       "    <tr>\n",
       "      <th>0</th>\n",
       "      <td>19-Aug</td>\n",
       "      <td>169.7</td>\n",
       "      <td>179.6</td>\n",
       "      <td>194.5</td>\n",
       "      <td>157.8</td>\n",
       "      <td>133.9</td>\n",
       "      <td>174.8</td>\n",
       "      <td>168.383333</td>\n",
       "      <td>0</td>\n",
       "    </tr>\n",
       "    <tr>\n",
       "      <th>1</th>\n",
       "      <td>19-Sep</td>\n",
       "      <td>169.2</td>\n",
       "      <td>179.6</td>\n",
       "      <td>193.4</td>\n",
       "      <td>157.4</td>\n",
       "      <td>135.7</td>\n",
       "      <td>168.6</td>\n",
       "      <td>167.316667</td>\n",
       "      <td>1</td>\n",
       "    </tr>\n",
       "    <tr>\n",
       "      <th>2</th>\n",
       "      <td>19-Oct</td>\n",
       "      <td>172.0</td>\n",
       "      <td>180.7</td>\n",
       "      <td>192.0</td>\n",
       "      <td>164.3</td>\n",
       "      <td>136.4</td>\n",
       "      <td>178.3</td>\n",
       "      <td>170.616667</td>\n",
       "      <td>2</td>\n",
       "    </tr>\n",
       "    <tr>\n",
       "      <th>3</th>\n",
       "      <td>19-Nov</td>\n",
       "      <td>176.8</td>\n",
       "      <td>189.7</td>\n",
       "      <td>192.6</td>\n",
       "      <td>162.1</td>\n",
       "      <td>150.6</td>\n",
       "      <td>181.6</td>\n",
       "      <td>175.566667</td>\n",
       "      <td>3</td>\n",
       "    </tr>\n",
       "    <tr>\n",
       "      <th>4</th>\n",
       "      <td>19-Dec</td>\n",
       "      <td>181.5</td>\n",
       "      <td>190.8</td>\n",
       "      <td>198.9</td>\n",
       "      <td>164.4</td>\n",
       "      <td>164.7</td>\n",
       "      <td>190.3</td>\n",
       "      <td>181.766667</td>\n",
       "      <td>4</td>\n",
       "    </tr>\n",
       "    <tr>\n",
       "      <th>5</th>\n",
       "      <td>20-Jan</td>\n",
       "      <td>183.0</td>\n",
       "      <td>183.8</td>\n",
       "      <td>200.6</td>\n",
       "      <td>169.3</td>\n",
       "      <td>176.3</td>\n",
       "      <td>200.7</td>\n",
       "      <td>185.616667</td>\n",
       "      <td>5</td>\n",
       "    </tr>\n",
       "    <tr>\n",
       "      <th>6</th>\n",
       "      <td>20-Feb</td>\n",
       "      <td>179.5</td>\n",
       "      <td>175.4</td>\n",
       "      <td>209.8</td>\n",
       "      <td>167.9</td>\n",
       "      <td>158.1</td>\n",
       "      <td>209.7</td>\n",
       "      <td>183.400000</td>\n",
       "      <td>6</td>\n",
       "    </tr>\n",
       "    <tr>\n",
       "      <th>7</th>\n",
       "      <td>20-Mar</td>\n",
       "      <td>171.1</td>\n",
       "      <td>173.2</td>\n",
       "      <td>203.5</td>\n",
       "      <td>164.2</td>\n",
       "      <td>139.1</td>\n",
       "      <td>169.6</td>\n",
       "      <td>170.116667</td>\n",
       "      <td>7</td>\n",
       "    </tr>\n",
       "    <tr>\n",
       "      <th>8</th>\n",
       "      <td>20-Apr</td>\n",
       "      <td>165.6</td>\n",
       "      <td>169.3</td>\n",
       "      <td>196.2</td>\n",
       "      <td>163.7</td>\n",
       "      <td>131.8</td>\n",
       "      <td>144.9</td>\n",
       "      <td>161.916667</td>\n",
       "      <td>8</td>\n",
       "    </tr>\n",
       "    <tr>\n",
       "      <th>9</th>\n",
       "      <td>20-May</td>\n",
       "      <td>162.5</td>\n",
       "      <td>168.0</td>\n",
       "      <td>181.8</td>\n",
       "      <td>162.2</td>\n",
       "      <td>128.1</td>\n",
       "      <td>155.6</td>\n",
       "      <td>159.700000</td>\n",
       "      <td>9</td>\n",
       "    </tr>\n",
       "  </tbody>\n",
       "</table>\n",
       "</div>"
      ],
      "text/plain": [
       "     Date  Food Price Index  Meat Price Index  Dairy Price Index  \\\n",
       "0  19-Aug             169.7             179.6              194.5   \n",
       "1  19-Sep             169.2             179.6              193.4   \n",
       "2  19-Oct             172.0             180.7              192.0   \n",
       "3  19-Nov             176.8             189.7              192.6   \n",
       "4  19-Dec             181.5             190.8              198.9   \n",
       "5  20-Jan             183.0             183.8              200.6   \n",
       "6  20-Feb             179.5             175.4              209.8   \n",
       "7  20-Mar             171.1             173.2              203.5   \n",
       "8  20-Apr             165.6             169.3              196.2   \n",
       "9  20-May             162.5             168.0              181.8   \n",
       "\n",
       "   Cereals Price Index  Oils Price Index  Sugar Price Index     Average  \\\n",
       "0                157.8             133.9              174.8  168.383333   \n",
       "1                157.4             135.7              168.6  167.316667   \n",
       "2                164.3             136.4              178.3  170.616667   \n",
       "3                162.1             150.6              181.6  175.566667   \n",
       "4                164.4             164.7              190.3  181.766667   \n",
       "5                169.3             176.3              200.7  185.616667   \n",
       "6                167.9             158.1              209.7  183.400000   \n",
       "7                164.2             139.1              169.6  170.116667   \n",
       "8                163.7             131.8              144.9  161.916667   \n",
       "9                162.2             128.1              155.6  159.700000   \n",
       "\n",
       "   Lockdown_Month  \n",
       "0               0  \n",
       "1               1  \n",
       "2               2  \n",
       "3               3  \n",
       "4               4  \n",
       "5               5  \n",
       "6               6  \n",
       "7               7  \n",
       "8               8  \n",
       "9               9  "
      ]
     },
     "execution_count": 14,
     "metadata": {},
     "output_type": "execute_result"
    }
   ],
   "source": [
    "df_lock[\"Lockdown_Month\"]=df_lock.index\n",
    "df_lock"
   ]
  },
  {
   "cell_type": "code",
   "execution_count": 15,
   "metadata": {},
   "outputs": [
    {
     "data": {
      "text/plain": [
       "<matplotlib.axes._subplots.AxesSubplot at 0x1d4d8adcef0>"
      ]
     },
     "execution_count": 15,
     "metadata": {},
     "output_type": "execute_result"
    },
    {
     "data": {
      "image/png": "[encoded data removed]",
      "text/plain": [
       "<Figure size 720x360 with 1 Axes>"
      ]
     },
     "metadata": {
      "needs_background": "light"
     },
     "output_type": "display_data"
    }
   ],
   "source": [
    "df_lock.plot(x=\"Lockdown_Month\",y=\"Average\",figsize=(10,5), grid=True)"
   ]
  },
  {
   "cell_type": "code",
   "execution_count": 16,
   "metadata": {},
   "outputs": [
    {
     "data": {
      "text/plain": [
       "<matplotlib.axes._subplots.AxesSubplot at 0x1d4da819ba8>"
      ]
     },
     "execution_count": 16,
     "metadata": {},
     "output_type": "execute_result"
    },
    {
     "data": {
      "image/png": "[encoded data removed]",
      "text/plain": [
       "<Figure size 432x288 with 1 Axes>"
      ]
     },
     "metadata": {
      "needs_background": "light"
     },
     "output_type": "display_data"
    }
   ],
   "source": [
    "import seaborn as sns\n",
    "sns.boxplot(x=df_lock['Average'])"
   ]
  },
  {
   "cell_type": "code",
   "execution_count": 17,
   "metadata": {
    "scrolled": true
   },
   "outputs": [
    {
     "data": {
      "image/png": "[encoded data removed]",
      "text/plain": [
       "<Figure size 1152x576 with 1 Axes>"
      ]
     },
     "metadata": {
      "needs_background": "light"
     },
     "output_type": "display_data"
    }
   ],
   "source": [
    "fig, ax = plt.subplots(figsize=(16,8))\n",
    "ax.scatter(df_lock['Lockdown_Month'],df_lock['Average'])\n",
    "ax.set_xlabel('LOCKDOWN_PERIOD')\n",
    "ax.set_ylabel('AVERGAE_PRICE_INDEX')\n",
    "plt.show()"
   ]
  },
  {
   "cell_type": "markdown",
   "metadata": {},
   "source": [
    "### IT IS OBSERVED THAT AS LOCKDOWN PERIOD INCREASED THE FOOD PRICE INDEX DECREASED DRASTICALLY"
   ]
  },
  {
   "cell_type": "markdown",
   "metadata": {},
   "source": [
    "## HENCE FOOD SECURITY IS UNDER STAKE"
   ]
  },
  {
   "cell_type": "code",
   "execution_count": 18,
   "metadata": {},
   "outputs": [],
   "source": [
    "x=df_lock[[\"Lockdown_Month\"]]\n",
    "y=df_lock[[\"Average\"]]"
   ]
  },
  {
   "cell_type": "code",
   "execution_count": 19,
   "metadata": {},
   "outputs": [],
   "source": [
    "from sklearn.model_selection import train_test_split\n",
    "x_train,X_test,y_train,y_test = train_test_split(x, y, test_size=0.3, random_state=42)"
   ]
  },
  {
   "cell_type": "code",
   "execution_count": 20,
   "metadata": {},
   "outputs": [
    {
     "data": {
      "text/html": [
       "<div>\n",
       "<style scoped>\n",
       "    .dataframe tbody tr th:only-of-type {\n",
       "        vertical-align: middle;\n",
       "    }\n",
       "\n",
       "    .dataframe tbody tr th {\n",
       "        vertical-align: top;\n",
       "    }\n",
       "\n",
       "    .dataframe thead th {\n",
       "        text-align: right;\n",
       "    }\n",
       "</style>\n",
       "<table border=\"1\" class=\"dataframe\">\n",
       "  <thead>\n",
       "    <tr style=\"text-align: right;\">\n",
       "      <th></th>\n",
       "      <th>Lockdown_Month</th>\n",
       "    </tr>\n",
       "  </thead>\n",
       "  <tbody>\n",
       "    <tr>\n",
       "      <th>0</th>\n",
       "      <td>0</td>\n",
       "    </tr>\n",
       "    <tr>\n",
       "      <th>7</th>\n",
       "      <td>7</td>\n",
       "    </tr>\n",
       "    <tr>\n",
       "      <th>2</th>\n",
       "      <td>2</td>\n",
       "    </tr>\n",
       "    <tr>\n",
       "      <th>9</th>\n",
       "      <td>9</td>\n",
       "    </tr>\n",
       "    <tr>\n",
       "      <th>4</th>\n",
       "      <td>4</td>\n",
       "    </tr>\n",
       "    <tr>\n",
       "      <th>3</th>\n",
       "      <td>3</td>\n",
       "    </tr>\n",
       "    <tr>\n",
       "      <th>6</th>\n",
       "      <td>6</td>\n",
       "    </tr>\n",
       "  </tbody>\n",
       "</table>\n",
       "</div>"
      ],
      "text/plain": [
       "   Lockdown_Month\n",
       "0               0\n",
       "7               7\n",
       "2               2\n",
       "9               9\n",
       "4               4\n",
       "3               3\n",
       "6               6"
      ]
     },
     "execution_count": 20,
     "metadata": {},
     "output_type": "execute_result"
    }
   ],
   "source": [
    "x_train"
   ]
  },
  {
   "cell_type": "code",
   "execution_count": 21,
   "metadata": {},
   "outputs": [
    {
     "data": {
      "text/html": [
       "<div>\n",
       "<style scoped>\n",
       "    .dataframe tbody tr th:only-of-type {\n",
       "        vertical-align: middle;\n",
       "    }\n",
       "\n",
       "    .dataframe tbody tr th {\n",
       "        vertical-align: top;\n",
       "    }\n",
       "\n",
       "    .dataframe thead th {\n",
       "        text-align: right;\n",
       "    }\n",
       "</style>\n",
       "<table border=\"1\" class=\"dataframe\">\n",
       "  <thead>\n",
       "    <tr style=\"text-align: right;\">\n",
       "      <th></th>\n",
       "      <th>Average</th>\n",
       "    </tr>\n",
       "  </thead>\n",
       "  <tbody>\n",
       "    <tr>\n",
       "      <th>0</th>\n",
       "      <td>168.383333</td>\n",
       "    </tr>\n",
       "    <tr>\n",
       "      <th>7</th>\n",
       "      <td>170.116667</td>\n",
       "    </tr>\n",
       "    <tr>\n",
       "      <th>2</th>\n",
       "      <td>170.616667</td>\n",
       "    </tr>\n",
       "    <tr>\n",
       "      <th>9</th>\n",
       "      <td>159.700000</td>\n",
       "    </tr>\n",
       "    <tr>\n",
       "      <th>4</th>\n",
       "      <td>181.766667</td>\n",
       "    </tr>\n",
       "    <tr>\n",
       "      <th>3</th>\n",
       "      <td>175.566667</td>\n",
       "    </tr>\n",
       "    <tr>\n",
       "      <th>6</th>\n",
       "      <td>183.400000</td>\n",
       "    </tr>\n",
       "  </tbody>\n",
       "</table>\n",
       "</div>"
      ],
      "text/plain": [
       "      Average\n",
       "0  168.383333\n",
       "7  170.116667\n",
       "2  170.616667\n",
       "9  159.700000\n",
       "4  181.766667\n",
       "3  175.566667\n",
       "6  183.400000"
      ]
     },
     "execution_count": 21,
     "metadata": {},
     "output_type": "execute_result"
    }
   ],
   "source": [
    "y_train"
   ]
  },
  {
   "cell_type": "code",
   "execution_count": 22,
   "metadata": {},
   "outputs": [
    {
     "data": {
      "text/html": [
       "<div>\n",
       "<style scoped>\n",
       "    .dataframe tbody tr th:only-of-type {\n",
       "        vertical-align: middle;\n",
       "    }\n",
       "\n",
       "    .dataframe tbody tr th {\n",
       "        vertical-align: top;\n",
       "    }\n",
       "\n",
       "    .dataframe thead th {\n",
       "        text-align: right;\n",
       "    }\n",
       "</style>\n",
       "<table border=\"1\" class=\"dataframe\">\n",
       "  <thead>\n",
       "    <tr style=\"text-align: right;\">\n",
       "      <th></th>\n",
       "      <th>Lockdown_Month</th>\n",
       "    </tr>\n",
       "  </thead>\n",
       "  <tbody>\n",
       "    <tr>\n",
       "      <th>8</th>\n",
       "      <td>8</td>\n",
       "    </tr>\n",
       "    <tr>\n",
       "      <th>1</th>\n",
       "      <td>1</td>\n",
       "    </tr>\n",
       "    <tr>\n",
       "      <th>5</th>\n",
       "      <td>5</td>\n",
       "    </tr>\n",
       "  </tbody>\n",
       "</table>\n",
       "</div>"
      ],
      "text/plain": [
       "   Lockdown_Month\n",
       "8               8\n",
       "1               1\n",
       "5               5"
      ]
     },
     "execution_count": 22,
     "metadata": {},
     "output_type": "execute_result"
    }
   ],
   "source": [
    "X_test"
   ]
  },
  {
   "cell_type": "code",
   "execution_count": 23,
   "metadata": {},
   "outputs": [
    {
     "data": {
      "text/html": [
       "<div>\n",
       "<style scoped>\n",
       "    .dataframe tbody tr th:only-of-type {\n",
       "        vertical-align: middle;\n",
       "    }\n",
       "\n",
       "    .dataframe tbody tr th {\n",
       "        vertical-align: top;\n",
       "    }\n",
       "\n",
       "    .dataframe thead th {\n",
       "        text-align: right;\n",
       "    }\n",
       "</style>\n",
       "<table border=\"1\" class=\"dataframe\">\n",
       "  <thead>\n",
       "    <tr style=\"text-align: right;\">\n",
       "      <th></th>\n",
       "      <th>Average</th>\n",
       "    </tr>\n",
       "  </thead>\n",
       "  <tbody>\n",
       "    <tr>\n",
       "      <th>8</th>\n",
       "      <td>161.916667</td>\n",
       "    </tr>\n",
       "    <tr>\n",
       "      <th>1</th>\n",
       "      <td>167.316667</td>\n",
       "    </tr>\n",
       "    <tr>\n",
       "      <th>5</th>\n",
       "      <td>185.616667</td>\n",
       "    </tr>\n",
       "  </tbody>\n",
       "</table>\n",
       "</div>"
      ],
      "text/plain": [
       "      Average\n",
       "8  161.916667\n",
       "1  167.316667\n",
       "5  185.616667"
      ]
     },
     "execution_count": 23,
     "metadata": {},
     "output_type": "execute_result"
    }
   ],
   "source": [
    "y_test"
   ]
  },
  {
   "cell_type": "code",
   "execution_count": 24,
   "metadata": {},
   "outputs": [],
   "source": [
    "from sklearn.linear_model import LinearRegression\n",
    "model = LinearRegression()\n",
    "model.fit(df_lock[[\"Lockdown_Month\"]],df_lock[[\"Average\"]])\n",
    "y_pred = model.predict(df_lock[[\"Lockdown_Month\"]])"
   ]
  },
  {
   "cell_type": "code",
   "execution_count": 25,
   "metadata": {},
   "outputs": [
    {
     "data": {
      "image/png": "[encoded data removed]",
      "text/plain": [
       "<Figure size 432x288 with 1 Axes>"
      ]
     },
     "metadata": {
      "needs_background": "light"
     },
     "output_type": "display_data"
    }
   ],
   "source": [
    "plt.scatter(df_lock[[\"Lockdown_Month\"]],df_lock[[\"Average\"]], s=10)\n",
    "plt.plot(df_lock[[\"Lockdown_Month\"]], y_pred, color='r')\n",
    "plt.show()"
   ]
  }
 ],
 "metadata": {
  "kernelspec": {
   "display_name": "Python 3",
   "language": "python",
   "name": "python3"
  },
  "language_info": {
   "codemirror_mode": {
    "name": "ipython",
    "version": 3
   },
   "file_extension": ".py",
   "mimetype": "text/x-python",
   "name": "python",
   "nbconvert_exporter": "python",
   "pygments_lexer": "ipython3",
   "version": "3.7.1"
  }
 },
 "nbformat": 4,
 "nbformat_minor": 2
}
