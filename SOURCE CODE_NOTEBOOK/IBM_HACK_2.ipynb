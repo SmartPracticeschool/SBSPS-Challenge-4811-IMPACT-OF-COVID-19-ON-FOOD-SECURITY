{
 "cells": [
  {
   "cell_type": "markdown",
   "metadata": {},
   "source": [
    "## SUPPLY UTILIZATION AND PRODUCTION"
   ]
  },
  {
   "cell_type": "code",
   "execution_count": 1,
   "metadata": {},
   "outputs": [],
   "source": [
    "import pandas as pd"
   ]
  },
  {
   "cell_type": "code",
   "execution_count": 2,
   "metadata": {},
   "outputs": [
    {
     "data": {
      "text/html": [
       "<div>\n",
       "<style scoped>\n",
       "    .dataframe tbody tr th:only-of-type {\n",
       "        vertical-align: middle;\n",
       "    }\n",
       "\n",
       "    .dataframe tbody tr th {\n",
       "        vertical-align: top;\n",
       "    }\n",
       "\n",
       "    .dataframe thead th {\n",
       "        text-align: right;\n",
       "    }\n",
       "</style>\n",
       "<table border=\"1\" class=\"dataframe\">\n",
       "  <thead>\n",
       "    <tr style=\"text-align: right;\">\n",
       "      <th></th>\n",
       "      <th>PRODUCT</th>\n",
       "      <th>DATE</th>\n",
       "      <th>Production</th>\n",
       "      <th>Supply</th>\n",
       "      <th>Utilization</th>\n",
       "    </tr>\n",
       "  </thead>\n",
       "  <tbody>\n",
       "    <tr>\n",
       "      <th>0</th>\n",
       "      <td>CEREAL</td>\n",
       "      <td>2011/12</td>\n",
       "      <td>2,357.60</td>\n",
       "      <td>2,922.10</td>\n",
       "      <td>2,321.00</td>\n",
       "    </tr>\n",
       "    <tr>\n",
       "      <th>1</th>\n",
       "      <td>CEREAL</td>\n",
       "      <td>2012/13</td>\n",
       "      <td>2,317.90</td>\n",
       "      <td>2,915.00</td>\n",
       "      <td>2,332.20</td>\n",
       "    </tr>\n",
       "    <tr>\n",
       "      <th>2</th>\n",
       "      <td>CEREAL</td>\n",
       "      <td>2013/14</td>\n",
       "      <td>2,557.50</td>\n",
       "      <td>3,151.50</td>\n",
       "      <td>2,449.10</td>\n",
       "    </tr>\n",
       "    <tr>\n",
       "      <th>3</th>\n",
       "      <td>CEREAL</td>\n",
       "      <td>2014/15</td>\n",
       "      <td>2,607.90</td>\n",
       "      <td>3,281.50</td>\n",
       "      <td>2,507.80</td>\n",
       "    </tr>\n",
       "    <tr>\n",
       "      <th>4</th>\n",
       "      <td>CEREAL</td>\n",
       "      <td>2015/16</td>\n",
       "      <td>2,583.20</td>\n",
       "      <td>3,353.90</td>\n",
       "      <td>2,550.50</td>\n",
       "    </tr>\n",
       "  </tbody>\n",
       "</table>\n",
       "</div>"
      ],
      "text/plain": [
       "  PRODUCT     DATE Production    Supply  Utilization\n",
       "0  CEREAL  2011/12    2,357.60  2,922.10    2,321.00\n",
       "1  CEREAL  2012/13    2,317.90  2,915.00    2,332.20\n",
       "2  CEREAL  2013/14    2,557.50  3,151.50    2,449.10\n",
       "3  CEREAL  2014/15    2,607.90  3,281.50    2,507.80\n",
       "4  CEREAL  2015/16    2,583.20  3,353.90    2,550.50"
      ]
     },
     "execution_count": 2,
     "metadata": {},
     "output_type": "execute_result"
    }
   ],
   "source": [
    "df=pd.read_csv(\"C:\\\\Users\\\\91801\\\\Desktop\\\\IBM HACK\\\\WORLD_DATASET\\\\try1cs.csv\")\n",
    "df.head()"
   ]
  },
  {
   "cell_type": "code",
   "execution_count": 3,
   "metadata": {},
   "outputs": [
    {
     "data": {
      "text/plain": [
       "PRODUCT        object\n",
       "DATE           object\n",
       "Production     object\n",
       "Supply         object\n",
       "Utilization    object\n",
       "dtype: object"
      ]
     },
     "execution_count": 3,
     "metadata": {},
     "output_type": "execute_result"
    }
   ],
   "source": [
    "df.dtypes"
   ]
  },
  {
   "cell_type": "code",
   "execution_count": 4,
   "metadata": {},
   "outputs": [
    {
     "name": "stdout",
     "output_type": "stream",
     "text": [
      "['PRODUCT', 'DATE', 'Production ', 'Supply ', 'Utilization']\n"
     ]
    }
   ],
   "source": [
    "print(df.columns.tolist())"
   ]
  },
  {
   "cell_type": "code",
   "execution_count": 5,
   "metadata": {},
   "outputs": [],
   "source": [
    "df['Production '] = df['Production '].str.replace(',', '').str.replace(',', '').astype(float)"
   ]
  },
  {
   "cell_type": "code",
   "execution_count": 6,
   "metadata": {},
   "outputs": [],
   "source": [
    "df['Supply '] = df['Supply '].str.replace(',', '').str.replace(',', '').astype(float)\n",
    "df['Utilization'] = df['Utilization'].str.replace(',', '').str.replace(',', '').astype(float)"
   ]
  },
  {
   "cell_type": "code",
   "execution_count": 7,
   "metadata": {},
   "outputs": [
    {
     "data": {
      "text/html": [
       "<div>\n",
       "<style scoped>\n",
       "    .dataframe tbody tr th:only-of-type {\n",
       "        vertical-align: middle;\n",
       "    }\n",
       "\n",
       "    .dataframe tbody tr th {\n",
       "        vertical-align: top;\n",
       "    }\n",
       "\n",
       "    .dataframe thead th {\n",
       "        text-align: right;\n",
       "    }\n",
       "</style>\n",
       "<table border=\"1\" class=\"dataframe\">\n",
       "  <thead>\n",
       "    <tr style=\"text-align: right;\">\n",
       "      <th></th>\n",
       "      <th>PRODUCT</th>\n",
       "      <th>DATE</th>\n",
       "      <th>Production</th>\n",
       "      <th>Supply</th>\n",
       "      <th>Utilization</th>\n",
       "    </tr>\n",
       "  </thead>\n",
       "  <tbody>\n",
       "    <tr>\n",
       "      <th>0</th>\n",
       "      <td>CEREAL</td>\n",
       "      <td>2011/12</td>\n",
       "      <td>2357.6</td>\n",
       "      <td>2922.1</td>\n",
       "      <td>2321.0</td>\n",
       "    </tr>\n",
       "    <tr>\n",
       "      <th>1</th>\n",
       "      <td>CEREAL</td>\n",
       "      <td>2012/13</td>\n",
       "      <td>2317.9</td>\n",
       "      <td>2915.0</td>\n",
       "      <td>2332.2</td>\n",
       "    </tr>\n",
       "    <tr>\n",
       "      <th>2</th>\n",
       "      <td>CEREAL</td>\n",
       "      <td>2013/14</td>\n",
       "      <td>2557.5</td>\n",
       "      <td>3151.5</td>\n",
       "      <td>2449.1</td>\n",
       "    </tr>\n",
       "    <tr>\n",
       "      <th>3</th>\n",
       "      <td>CEREAL</td>\n",
       "      <td>2014/15</td>\n",
       "      <td>2607.9</td>\n",
       "      <td>3281.5</td>\n",
       "      <td>2507.8</td>\n",
       "    </tr>\n",
       "    <tr>\n",
       "      <th>4</th>\n",
       "      <td>CEREAL</td>\n",
       "      <td>2015/16</td>\n",
       "      <td>2583.2</td>\n",
       "      <td>3353.9</td>\n",
       "      <td>2550.5</td>\n",
       "    </tr>\n",
       "    <tr>\n",
       "      <th>5</th>\n",
       "      <td>CEREAL</td>\n",
       "      <td>2016/17</td>\n",
       "      <td>2661.8</td>\n",
       "      <td>3459.6</td>\n",
       "      <td>2613.5</td>\n",
       "    </tr>\n",
       "    <tr>\n",
       "      <th>6</th>\n",
       "      <td>CEREAL</td>\n",
       "      <td>2017/18</td>\n",
       "      <td>2696.9</td>\n",
       "      <td>3540.9</td>\n",
       "      <td>2649.5</td>\n",
       "    </tr>\n",
       "    <tr>\n",
       "      <th>7</th>\n",
       "      <td>CEREAL</td>\n",
       "      <td>2018/19</td>\n",
       "      <td>2648.7</td>\n",
       "      <td>3533.4</td>\n",
       "      <td>2677.8</td>\n",
       "    </tr>\n",
       "    <tr>\n",
       "      <th>8</th>\n",
       "      <td>CEREAL</td>\n",
       "      <td>2019/20</td>\n",
       "      <td>2710.9</td>\n",
       "      <td>3582.8</td>\n",
       "      <td>2689.4</td>\n",
       "    </tr>\n",
       "    <tr>\n",
       "      <th>9</th>\n",
       "      <td>CEREAL</td>\n",
       "      <td>2020/21</td>\n",
       "      <td>2780.5</td>\n",
       "      <td>3663.3</td>\n",
       "      <td>2732.4</td>\n",
       "    </tr>\n",
       "    <tr>\n",
       "      <th>10</th>\n",
       "      <td>WHEAT</td>\n",
       "      <td>2011/12</td>\n",
       "      <td>699.0</td>\n",
       "      <td>902.1</td>\n",
       "      <td>693.2</td>\n",
       "    </tr>\n",
       "    <tr>\n",
       "      <th>11</th>\n",
       "      <td>WHEAT</td>\n",
       "      <td>2012/13</td>\n",
       "      <td>658.6</td>\n",
       "      <td>862.5</td>\n",
       "      <td>682.4</td>\n",
       "    </tr>\n",
       "    <tr>\n",
       "      <th>12</th>\n",
       "      <td>WHEAT</td>\n",
       "      <td>2013/14</td>\n",
       "      <td>715.3</td>\n",
       "      <td>901.1</td>\n",
       "      <td>692.2</td>\n",
       "    </tr>\n",
       "    <tr>\n",
       "      <th>13</th>\n",
       "      <td>WHEAT</td>\n",
       "      <td>2014/15</td>\n",
       "      <td>735.2</td>\n",
       "      <td>935.6</td>\n",
       "      <td>708.2</td>\n",
       "    </tr>\n",
       "    <tr>\n",
       "      <th>14</th>\n",
       "      <td>WHEAT</td>\n",
       "      <td>2015/16</td>\n",
       "      <td>737.2</td>\n",
       "      <td>965.9</td>\n",
       "      <td>717.0</td>\n",
       "    </tr>\n",
       "    <tr>\n",
       "      <th>15</th>\n",
       "      <td>WHEAT</td>\n",
       "      <td>2016/17</td>\n",
       "      <td>764.9</td>\n",
       "      <td>1008.0</td>\n",
       "      <td>737.3</td>\n",
       "    </tr>\n",
       "    <tr>\n",
       "      <th>16</th>\n",
       "      <td>WHEAT</td>\n",
       "      <td>2017/18</td>\n",
       "      <td>761.6</td>\n",
       "      <td>1028.5</td>\n",
       "      <td>739.1</td>\n",
       "    </tr>\n",
       "    <tr>\n",
       "      <th>17</th>\n",
       "      <td>WHEAT</td>\n",
       "      <td>2018/19</td>\n",
       "      <td>732.1</td>\n",
       "      <td>1020.2</td>\n",
       "      <td>751.1</td>\n",
       "    </tr>\n",
       "    <tr>\n",
       "      <th>18</th>\n",
       "      <td>WHEAT</td>\n",
       "      <td>2019/20</td>\n",
       "      <td>762.2</td>\n",
       "      <td>1034.1</td>\n",
       "      <td>757.5</td>\n",
       "    </tr>\n",
       "    <tr>\n",
       "      <th>19</th>\n",
       "      <td>WHEAT</td>\n",
       "      <td>2020/21</td>\n",
       "      <td>758.3</td>\n",
       "      <td>1034.5</td>\n",
       "      <td>754.3</td>\n",
       "    </tr>\n",
       "    <tr>\n",
       "      <th>20</th>\n",
       "      <td>GRAIN</td>\n",
       "      <td>2011/12</td>\n",
       "      <td>1178.6</td>\n",
       "      <td>1410.9</td>\n",
       "      <td>1165.7</td>\n",
       "    </tr>\n",
       "    <tr>\n",
       "      <th>21</th>\n",
       "      <td>GRAIN</td>\n",
       "      <td>2012/13</td>\n",
       "      <td>1174.4</td>\n",
       "      <td>1421.0</td>\n",
       "      <td>1180.7</td>\n",
       "    </tr>\n",
       "    <tr>\n",
       "      <th>22</th>\n",
       "      <td>GRAIN</td>\n",
       "      <td>2013/14</td>\n",
       "      <td>1351.6</td>\n",
       "      <td>1597.8</td>\n",
       "      <td>1276.6</td>\n",
       "    </tr>\n",
       "    <tr>\n",
       "      <th>23</th>\n",
       "      <td>GRAIN</td>\n",
       "      <td>2014/15</td>\n",
       "      <td>1382.6</td>\n",
       "      <td>1684.3</td>\n",
       "      <td>1312.8</td>\n",
       "    </tr>\n",
       "    <tr>\n",
       "      <th>24</th>\n",
       "      <td>GRAIN</td>\n",
       "      <td>2015/16</td>\n",
       "      <td>1357.4</td>\n",
       "      <td>1725.7</td>\n",
       "      <td>1343.2</td>\n",
       "    </tr>\n",
       "    <tr>\n",
       "      <th>25</th>\n",
       "      <td>GRAIN</td>\n",
       "      <td>2016/17</td>\n",
       "      <td>1400.4</td>\n",
       "      <td>1783.1</td>\n",
       "      <td>1382.1</td>\n",
       "    </tr>\n",
       "    <tr>\n",
       "      <th>26</th>\n",
       "      <td>GRAIN</td>\n",
       "      <td>2017/18</td>\n",
       "      <td>1436.0</td>\n",
       "      <td>1840.0</td>\n",
       "      <td>1413.1</td>\n",
       "    </tr>\n",
       "    <tr>\n",
       "      <th>27</th>\n",
       "      <td>GRAIN</td>\n",
       "      <td>2018/19</td>\n",
       "      <td>1410.3</td>\n",
       "      <td>1830.6</td>\n",
       "      <td>1426.8</td>\n",
       "    </tr>\n",
       "    <tr>\n",
       "      <th>28</th>\n",
       "      <td>GRAIN</td>\n",
       "      <td>2019/20</td>\n",
       "      <td>1448.1</td>\n",
       "      <td>1863.5</td>\n",
       "      <td>1429.8</td>\n",
       "    </tr>\n",
       "    <tr>\n",
       "      <th>29</th>\n",
       "      <td>GRAIN</td>\n",
       "      <td>2020/21</td>\n",
       "      <td>1513.5</td>\n",
       "      <td>1936.6</td>\n",
       "      <td>1468.0</td>\n",
       "    </tr>\n",
       "    <tr>\n",
       "      <th>30</th>\n",
       "      <td>RICE</td>\n",
       "      <td>2011/12</td>\n",
       "      <td>480.0</td>\n",
       "      <td>609.0</td>\n",
       "      <td>462.0</td>\n",
       "    </tr>\n",
       "    <tr>\n",
       "      <th>31</th>\n",
       "      <td>RICE</td>\n",
       "      <td>2012/13</td>\n",
       "      <td>484.9</td>\n",
       "      <td>631.5</td>\n",
       "      <td>469.1</td>\n",
       "    </tr>\n",
       "    <tr>\n",
       "      <th>32</th>\n",
       "      <td>RICE</td>\n",
       "      <td>2013/14</td>\n",
       "      <td>490.6</td>\n",
       "      <td>652.6</td>\n",
       "      <td>480.2</td>\n",
       "    </tr>\n",
       "    <tr>\n",
       "      <th>33</th>\n",
       "      <td>RICE</td>\n",
       "      <td>2014/15</td>\n",
       "      <td>490.1</td>\n",
       "      <td>661.6</td>\n",
       "      <td>486.8</td>\n",
       "    </tr>\n",
       "    <tr>\n",
       "      <th>34</th>\n",
       "      <td>RICE</td>\n",
       "      <td>2015/16</td>\n",
       "      <td>488.6</td>\n",
       "      <td>662.2</td>\n",
       "      <td>490.3</td>\n",
       "    </tr>\n",
       "    <tr>\n",
       "      <th>35</th>\n",
       "      <td>RICE</td>\n",
       "      <td>2016/17</td>\n",
       "      <td>496.5</td>\n",
       "      <td>668.5</td>\n",
       "      <td>494.1</td>\n",
       "    </tr>\n",
       "    <tr>\n",
       "      <th>36</th>\n",
       "      <td>RICE</td>\n",
       "      <td>2017/18</td>\n",
       "      <td>499.4</td>\n",
       "      <td>672.3</td>\n",
       "      <td>497.3</td>\n",
       "    </tr>\n",
       "    <tr>\n",
       "      <th>37</th>\n",
       "      <td>RICE</td>\n",
       "      <td>2018/19</td>\n",
       "      <td>506.3</td>\n",
       "      <td>682.5</td>\n",
       "      <td>499.9</td>\n",
       "    </tr>\n",
       "    <tr>\n",
       "      <th>38</th>\n",
       "      <td>RICE</td>\n",
       "      <td>2019/20</td>\n",
       "      <td>500.6</td>\n",
       "      <td>685.2</td>\n",
       "      <td>502.0</td>\n",
       "    </tr>\n",
       "    <tr>\n",
       "      <th>39</th>\n",
       "      <td>RICE</td>\n",
       "      <td>2020/21</td>\n",
       "      <td>508.7</td>\n",
       "      <td>692.1</td>\n",
       "      <td>510.0</td>\n",
       "    </tr>\n",
       "  </tbody>\n",
       "</table>\n",
       "</div>"
      ],
      "text/plain": [
       "   PRODUCT     DATE  Production   Supply   Utilization\n",
       "0   CEREAL  2011/12       2357.6   2922.1       2321.0\n",
       "1   CEREAL  2012/13       2317.9   2915.0       2332.2\n",
       "2   CEREAL  2013/14       2557.5   3151.5       2449.1\n",
       "3   CEREAL  2014/15       2607.9   3281.5       2507.8\n",
       "4   CEREAL  2015/16       2583.2   3353.9       2550.5\n",
       "5   CEREAL  2016/17       2661.8   3459.6       2613.5\n",
       "6   CEREAL  2017/18       2696.9   3540.9       2649.5\n",
       "7   CEREAL  2018/19       2648.7   3533.4       2677.8\n",
       "8   CEREAL  2019/20       2710.9   3582.8       2689.4\n",
       "9   CEREAL  2020/21       2780.5   3663.3       2732.4\n",
       "10   WHEAT  2011/12        699.0    902.1        693.2\n",
       "11   WHEAT  2012/13        658.6    862.5        682.4\n",
       "12   WHEAT  2013/14        715.3    901.1        692.2\n",
       "13   WHEAT  2014/15        735.2    935.6        708.2\n",
       "14   WHEAT  2015/16        737.2    965.9        717.0\n",
       "15   WHEAT  2016/17        764.9   1008.0        737.3\n",
       "16   WHEAT  2017/18        761.6   1028.5        739.1\n",
       "17   WHEAT  2018/19        732.1   1020.2        751.1\n",
       "18   WHEAT  2019/20        762.2   1034.1        757.5\n",
       "19   WHEAT  2020/21        758.3   1034.5        754.3\n",
       "20   GRAIN  2011/12       1178.6   1410.9       1165.7\n",
       "21   GRAIN  2012/13       1174.4   1421.0       1180.7\n",
       "22   GRAIN  2013/14       1351.6   1597.8       1276.6\n",
       "23   GRAIN  2014/15       1382.6   1684.3       1312.8\n",
       "24   GRAIN  2015/16       1357.4   1725.7       1343.2\n",
       "25   GRAIN  2016/17       1400.4   1783.1       1382.1\n",
       "26   GRAIN  2017/18       1436.0   1840.0       1413.1\n",
       "27   GRAIN  2018/19       1410.3   1830.6       1426.8\n",
       "28   GRAIN  2019/20       1448.1   1863.5       1429.8\n",
       "29   GRAIN  2020/21       1513.5   1936.6       1468.0\n",
       "30    RICE  2011/12        480.0    609.0        462.0\n",
       "31    RICE  2012/13        484.9    631.5        469.1\n",
       "32    RICE  2013/14        490.6    652.6        480.2\n",
       "33    RICE  2014/15        490.1    661.6        486.8\n",
       "34    RICE  2015/16        488.6    662.2        490.3\n",
       "35    RICE  2016/17        496.5    668.5        494.1\n",
       "36    RICE  2017/18        499.4    672.3        497.3\n",
       "37    RICE  2018/19        506.3    682.5        499.9\n",
       "38    RICE  2019/20        500.6    685.2        502.0\n",
       "39    RICE  2020/21        508.7    692.1        510.0"
      ]
     },
     "execution_count": 7,
     "metadata": {},
     "output_type": "execute_result"
    }
   ],
   "source": [
    "df"
   ]
  },
  {
   "cell_type": "code",
   "execution_count": 8,
   "metadata": {},
   "outputs": [
    {
     "data": {
      "text/plain": [
       "PRODUCT         object\n",
       "DATE            object\n",
       "Production     float64\n",
       "Supply         float64\n",
       "Utilization    float64\n",
       "dtype: object"
      ]
     },
     "execution_count": 8,
     "metadata": {},
     "output_type": "execute_result"
    }
   ],
   "source": [
    "df.dtypes"
   ]
  },
  {
   "cell_type": "code",
   "execution_count": 9,
   "metadata": {},
   "outputs": [
    {
     "data": {
      "text/plain": [
       "PRODUCT        0\n",
       "DATE           0\n",
       "Production     0\n",
       "Supply         0\n",
       "Utilization    0\n",
       "dtype: int64"
      ]
     },
     "execution_count": 9,
     "metadata": {},
     "output_type": "execute_result"
    }
   ],
   "source": [
    "df.isnull().sum()"
   ]
  },
  {
   "cell_type": "code",
   "execution_count": 10,
   "metadata": {},
   "outputs": [],
   "source": [
    "%matplotlib inline\n",
    "import matplotlib.pyplot as plt"
   ]
  },
  {
   "cell_type": "code",
   "execution_count": 11,
   "metadata": {},
   "outputs": [
    {
     "data": {
      "text/plain": [
       "<matplotlib.axes._subplots.AxesSubplot at 0x2416211c128>"
      ]
     },
     "execution_count": 11,
     "metadata": {},
     "output_type": "execute_result"
    },
    {
     "data": {
      "image/png": "[encoded data removed]",
      "text/plain": [
       "<Figure size 432x288 with 1 Axes>"
      ]
     },
     "metadata": {
      "needs_background": "light"
     },
     "output_type": "display_data"
    }
   ],
   "source": [
    "import seaborn as sns\n",
    "sns.boxplot(x=df['Production '])"
   ]
  },
  {
   "cell_type": "code",
   "execution_count": 12,
   "metadata": {},
   "outputs": [
    {
     "data": {
      "text/plain": [
       "<matplotlib.axes._subplots.AxesSubplot at 0x241624007f0>"
      ]
     },
     "execution_count": 12,
     "metadata": {},
     "output_type": "execute_result"
    },
    {
     "data": {
      "image/png": "[encoded data removed]",
      "text/plain": [
       "<Figure size 432x288 with 1 Axes>"
      ]
     },
     "metadata": {
      "needs_background": "light"
     },
     "output_type": "display_data"
    }
   ],
   "source": [
    "sns.boxplot(x=df['Supply '])"
   ]
  },
  {
   "cell_type": "code",
   "execution_count": 13,
   "metadata": {},
   "outputs": [
    {
     "data": {
      "text/plain": [
       "<matplotlib.axes._subplots.AxesSubplot at 0x24162460438>"
      ]
     },
     "execution_count": 13,
     "metadata": {},
     "output_type": "execute_result"
    },
    {
     "data": {
      "image/png": "[encoded data removed]",
      "text/plain": [
       "<Figure size 432x288 with 1 Axes>"
      ]
     },
     "metadata": {
      "needs_background": "light"
     },
     "output_type": "display_data"
    }
   ],
   "source": [
    "sns.boxplot(x=df['Utilization'])"
   ]
  },
  {
   "cell_type": "code",
   "execution_count": null,
   "metadata": {},
   "outputs": [],
   "source": []
  },
  {
   "cell_type": "code",
   "execution_count": null,
   "metadata": {},
   "outputs": [],
   "source": []
  },
  {
   "cell_type": "code",
   "execution_count": null,
   "metadata": {},
   "outputs": [],
   "source": []
  }
 ],
 "metadata": {
  "kernelspec": {
   "display_name": "Python 3",
   "language": "python",
   "name": "python3"
  },
  "language_info": {
   "codemirror_mode": {
    "name": "ipython",
    "version": 3
   },
   "file_extension": ".py",
   "mimetype": "text/x-python",
   "name": "python",
   "nbconvert_exporter": "python",
   "pygments_lexer": "ipython3",
   "version": "3.7.1"
  }
 },
 "nbformat": 4,
 "nbformat_minor": 2
}
